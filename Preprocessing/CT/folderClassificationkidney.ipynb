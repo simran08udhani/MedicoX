{
 "cells": [
  {
   "cell_type": "code",
   "execution_count": 1,
   "metadata": {},
   "outputs": [],
   "source": [
    "import pandas as pd\n",
    "import numpy as np\n",
    "import cv2"
   ]
  },
  {
   "cell_type": "code",
   "execution_count": 2,
   "metadata": {},
   "outputs": [],
   "source": [
    "from PIL import Image"
   ]
  },
  {
   "cell_type": "code",
   "execution_count": 3,
   "metadata": {},
   "outputs": [],
   "source": [
    "import os"
   ]
  },
  {
   "cell_type": "code",
   "execution_count": 4,
   "metadata": {},
   "outputs": [],
   "source": [
    "cyst_cases_path = r\"D:\\MAJOR PROJECT\\folder3UD\\kidney\\CT-KIDNEY-DATASET-Normal-Cyst-Tumor-Stone\\Cyst\""
   ]
  },
  {
   "cell_type": "code",
   "execution_count": 5,
   "metadata": {},
   "outputs": [],
   "source": [
    "\n",
    "images = [img for img in os.listdir(cyst_cases_path) if os.path.isfile(os.path.join(cyst_cases_path, img))]"
   ]
  },
  {
   "cell_type": "code",
   "execution_count": 6,
   "metadata": {},
   "outputs": [
    {
     "data": {
      "text/plain": [
       "1124"
      ]
     },
     "execution_count": 6,
     "metadata": {},
     "output_type": "execute_result"
    }
   ],
   "source": [
    "len(images)"
   ]
  },
  {
   "cell_type": "code",
   "execution_count": 7,
   "metadata": {},
   "outputs": [],
   "source": [
    "import shutil"
   ]
  },
  {
   "cell_type": "code",
   "execution_count": 8,
   "metadata": {},
   "outputs": [],
   "source": [
    "train_folder = r\"D:\\MAJOR PROJECT\\folder3UD\\Preprocesskidney\\train\\cyst_image\"\n",
    "test_folder = r\"D:\\MAJOR PROJECT\\folder3UD\\Preprocesskidney\\test\\cyst_image\"\n",
    "val_folder = r\"D:\\MAJOR PROJECT\\folder3UD\\Preprocesskidney\\validaton\\cyst_image\""
   ]
  },
  {
   "cell_type": "code",
   "execution_count": 9,
   "metadata": {},
   "outputs": [],
   "source": [
    "# Create directories if they don't exist\n",
    "os.makedirs(train_folder, exist_ok=True)\n",
    "os.makedirs(val_folder, exist_ok=True)\n",
    "os.makedirs(test_folder, exist_ok=True)"
   ]
  },
  {
   "cell_type": "code",
   "execution_count": 10,
   "metadata": {},
   "outputs": [],
   "source": [
    "import random"
   ]
  },
  {
   "cell_type": "code",
   "execution_count": 11,
   "metadata": {},
   "outputs": [],
   "source": [
    "random.shuffle(images)"
   ]
  },
  {
   "cell_type": "code",
   "execution_count": 12,
   "metadata": {},
   "outputs": [],
   "source": [
    "# Define split ratios\n",
    "train_ratio = 0.8\n",
    "test_ratio = 0.1\n",
    "val_ratio = 0.1\n"
   ]
  },
  {
   "cell_type": "code",
   "execution_count": 13,
   "metadata": {},
   "outputs": [],
   "source": [
    "# Compute split indices\n",
    "total_images_cyst = len(images)\n",
    "train_index = int(total_images_cyst * train_ratio)\n",
    "test_index = train_index + int(total_images_cyst * test_ratio)"
   ]
  },
  {
   "cell_type": "code",
   "execution_count": 14,
   "metadata": {},
   "outputs": [],
   "source": [
    "train_images = images[:train_index]\n",
    "test_images = images[train_index:test_index]\n",
    "val_images = images[test_index:]"
   ]
  },
  {
   "cell_type": "code",
   "execution_count": 15,
   "metadata": {},
   "outputs": [
    {
     "name": "stdout",
     "output_type": "stream",
     "text": [
      "899\n",
      "112\n",
      "113\n"
     ]
    }
   ],
   "source": [
    "print(len(train_images))\n",
    "print(len(test_images))\n",
    "print(len(val_images))"
   ]
  },
  {
   "cell_type": "code",
   "execution_count": 16,
   "metadata": {},
   "outputs": [
    {
     "data": {
      "text/plain": [
       "list"
      ]
     },
     "execution_count": 16,
     "metadata": {},
     "output_type": "execute_result"
    }
   ],
   "source": [
    "type(train_images)"
   ]
  },
  {
   "cell_type": "code",
   "execution_count": 17,
   "metadata": {},
   "outputs": [],
   "source": [
    "def copy_images(image_list, source_folder, destination_folder):\n",
    "    for img in image_list:\n",
    "        shutil.copy(os.path.join(source_folder, img), os.path.join(destination_folder, img))"
   ]
  },
  {
   "cell_type": "code",
   "execution_count": 18,
   "metadata": {},
   "outputs": [],
   "source": [
    "copy_images(train_images, cyst_cases_path, train_folder)\n",
    "copy_images(test_images, cyst_cases_path, test_folder)\n",
    "copy_images(val_images, cyst_cases_path, val_folder)"
   ]
  },
  {
   "cell_type": "code",
   "execution_count": 19,
   "metadata": {},
   "outputs": [],
   "source": [
    "normal_cases_path = r\"D:\\MAJOR PROJECT\\folder3UD\\kidney\\CT-KIDNEY-DATASET-Normal-Cyst-Tumor-Stone\\Normal\""
   ]
  },
  {
   "cell_type": "code",
   "execution_count": 20,
   "metadata": {},
   "outputs": [],
   "source": [
    "tumor_cases_path = r\"D:\\MAJOR PROJECT\\folder3UD\\kidney\\CT-KIDNEY-DATASET-Normal-Cyst-Tumor-Stone\\Tumor\""
   ]
  },
  {
   "cell_type": "code",
   "execution_count": 21,
   "metadata": {},
   "outputs": [],
   "source": [
    "stone_cases_path = r\"D:\\MAJOR PROJECT\\folder3UD\\kidney\\CT-KIDNEY-DATASET-Normal-Cyst-Tumor-Stone\\Stone\""
   ]
  },
  {
   "cell_type": "code",
   "execution_count": 22,
   "metadata": {},
   "outputs": [],
   "source": [
    "normal_image = images = [img for img in os.listdir(normal_cases_path) if os.path.isfile(os.path.join(normal_cases_path, img))]\n"
   ]
  },
  {
   "cell_type": "code",
   "execution_count": 23,
   "metadata": {},
   "outputs": [
    {
     "data": {
      "text/plain": [
       "1738"
      ]
     },
     "execution_count": 23,
     "metadata": {},
     "output_type": "execute_result"
    }
   ],
   "source": [
    "len(normal_image)"
   ]
  },
  {
   "cell_type": "code",
   "execution_count": 24,
   "metadata": {},
   "outputs": [],
   "source": [
    "train_folder = r\"D:\\MAJOR PROJECT\\folder3UD\\Preprocesskidney\\train\\normal_image\"\n",
    "test_folder = r\"D:\\MAJOR PROJECT\\folder3UD\\Preprocesskidney\\test\\normal_image\"\n",
    "val_folder = r\"D:\\MAJOR PROJECT\\folder3UD\\Preprocesskidney\\validaton\\normal_image\""
   ]
  },
  {
   "cell_type": "code",
   "execution_count": 26,
   "metadata": {},
   "outputs": [],
   "source": [
    "random.shuffle(normal_image)"
   ]
  },
  {
   "cell_type": "code",
   "execution_count": 27,
   "metadata": {},
   "outputs": [],
   "source": [
    "# Compute split indices\n",
    "total_images_normal = len(normal_image)\n",
    "train_index = int(total_images_normal * train_ratio)\n",
    "test_index = train_index + int(total_images_normal * test_ratio)"
   ]
  },
  {
   "cell_type": "code",
   "execution_count": 28,
   "metadata": {},
   "outputs": [],
   "source": [
    "train_images = images[:train_index]\n",
    "test_images = images[train_index:test_index]\n",
    "val_images = images[test_index:]"
   ]
  },
  {
   "cell_type": "code",
   "execution_count": 29,
   "metadata": {},
   "outputs": [
    {
     "name": "stdout",
     "output_type": "stream",
     "text": [
      "1390\n",
      "173\n",
      "175\n"
     ]
    }
   ],
   "source": [
    "print(len(train_images))\n",
    "print(len(test_images))\n",
    "print(len(val_images))"
   ]
  },
  {
   "cell_type": "code",
   "execution_count": 30,
   "metadata": {},
   "outputs": [],
   "source": [
    "# Create directories if they don't exist\n",
    "os.makedirs(train_folder, exist_ok=True)\n",
    "os.makedirs(val_folder, exist_ok=True)\n",
    "os.makedirs(test_folder, exist_ok=True)"
   ]
  },
  {
   "cell_type": "code",
   "execution_count": 31,
   "metadata": {},
   "outputs": [],
   "source": [
    "copy_images(train_images, normal_cases_path, train_folder)\n",
    "copy_images(test_images, normal_cases_path, test_folder)\n",
    "copy_images(val_images, normal_cases_path, val_folder)"
   ]
  },
  {
   "cell_type": "code",
   "execution_count": 32,
   "metadata": {},
   "outputs": [],
   "source": [
    "\n",
    "\n",
    "images_tumor = images = [img for img in os.listdir(tumor_cases_path) if os.path.isfile(os.path.join(tumor_cases_path, img))]\n"
   ]
  },
  {
   "cell_type": "code",
   "execution_count": 33,
   "metadata": {},
   "outputs": [
    {
     "data": {
      "text/plain": [
       "671"
      ]
     },
     "execution_count": 33,
     "metadata": {},
     "output_type": "execute_result"
    }
   ],
   "source": [
    "len(images_tumor)"
   ]
  },
  {
   "cell_type": "code",
   "execution_count": 34,
   "metadata": {},
   "outputs": [],
   "source": [
    "train_folder = r\"D:\\MAJOR PROJECT\\folder3UD\\Preprocesskidney\\train\\images_tumor\"\n",
    "test_folder = r\"D:\\MAJOR PROJECT\\folder3UD\\Preprocesskidney\\test\\images_tumor\"\n",
    "val_folder = r\"D:\\MAJOR PROJECT\\folder3UD\\Preprocesskidney\\validaton\\images_tumor\""
   ]
  },
  {
   "cell_type": "code",
   "execution_count": 35,
   "metadata": {},
   "outputs": [],
   "source": [
    "# Create directories if they don't exist\n",
    "os.makedirs(train_folder, exist_ok=True)\n",
    "os.makedirs(val_folder, exist_ok=True)\n",
    "os.makedirs(test_folder, exist_ok=True)"
   ]
  },
  {
   "cell_type": "code",
   "execution_count": 36,
   "metadata": {},
   "outputs": [],
   "source": [
    "random.shuffle(images_tumor)"
   ]
  },
  {
   "cell_type": "code",
   "execution_count": 37,
   "metadata": {},
   "outputs": [
    {
     "name": "stdout",
     "output_type": "stream",
     "text": [
      "671\n"
     ]
    }
   ],
   "source": [
    "total_images_tumor = len(images_tumor)\n",
    "print(total_images_tumor)\n",
    "train_index = int(total_images_tumor * train_ratio)\n",
    "test_index = train_index + int(total_images_tumor * test_ratio)"
   ]
  },
  {
   "cell_type": "code",
   "execution_count": 38,
   "metadata": {},
   "outputs": [],
   "source": [
    "train_images = images[:train_index]\n",
    "test_images = images[train_index:test_index]\n",
    "val_images = images[test_index:]"
   ]
  },
  {
   "cell_type": "code",
   "execution_count": 39,
   "metadata": {},
   "outputs": [
    {
     "name": "stdout",
     "output_type": "stream",
     "text": [
      "536\n",
      "67\n",
      "68\n"
     ]
    }
   ],
   "source": [
    "print(len(train_images))\n",
    "print(len(test_images))\n",
    "print(len(val_images))"
   ]
  },
  {
   "cell_type": "code",
   "execution_count": 40,
   "metadata": {},
   "outputs": [],
   "source": [
    "copy_images(train_images, tumor_cases_path, train_folder)\n",
    "copy_images(test_images, tumor_cases_path, test_folder)\n",
    "copy_images(val_images, tumor_cases_path, val_folder)"
   ]
  },
  {
   "cell_type": "code",
   "execution_count": 41,
   "metadata": {},
   "outputs": [],
   "source": [
    "\n",
    "\n",
    "images_stone = images = [img for img in os.listdir(stone_cases_path) if os.path.isfile(os.path.join(stone_cases_path, img))]\n"
   ]
  },
  {
   "cell_type": "code",
   "execution_count": 42,
   "metadata": {},
   "outputs": [
    {
     "data": {
      "text/plain": [
       "425"
      ]
     },
     "execution_count": 42,
     "metadata": {},
     "output_type": "execute_result"
    }
   ],
   "source": [
    "len(images_stone)"
   ]
  },
  {
   "cell_type": "code",
   "execution_count": 43,
   "metadata": {},
   "outputs": [],
   "source": [
    "train_folder = r\"D:\\MAJOR PROJECT\\folder3UD\\Preprocesskidney\\train\\images_stone\"\n",
    "test_folder = r\"D:\\MAJOR PROJECT\\folder3UD\\Preprocesskidney\\test\\images_stone\"\n",
    "val_folder = r\"D:\\MAJOR PROJECT\\folder3UD\\Preprocesskidney\\validaton\\images_stone\""
   ]
  },
  {
   "cell_type": "code",
   "execution_count": 44,
   "metadata": {},
   "outputs": [],
   "source": [
    "# Create directories if they don't exist\n",
    "os.makedirs(train_folder, exist_ok=True)\n",
    "os.makedirs(val_folder, exist_ok=True)\n",
    "os.makedirs(test_folder, exist_ok=True)"
   ]
  },
  {
   "cell_type": "code",
   "execution_count": 45,
   "metadata": {},
   "outputs": [],
   "source": [
    "random.shuffle(images_stone)"
   ]
  },
  {
   "cell_type": "code",
   "execution_count": 46,
   "metadata": {},
   "outputs": [
    {
     "name": "stdout",
     "output_type": "stream",
     "text": [
      "425\n"
     ]
    }
   ],
   "source": [
    "total_images_stone = len(images_stone)\n",
    "print(total_images_stone)\n",
    "train_index = int(total_images_stone * train_ratio)\n",
    "test_index = train_index + int(total_images_stone * test_ratio)"
   ]
  },
  {
   "cell_type": "code",
   "execution_count": 47,
   "metadata": {},
   "outputs": [],
   "source": [
    "train_images = images[:train_index]\n",
    "test_images = images[train_index:test_index]\n",
    "val_images = images[test_index:]"
   ]
  },
  {
   "cell_type": "code",
   "execution_count": 48,
   "metadata": {},
   "outputs": [
    {
     "name": "stdout",
     "output_type": "stream",
     "text": [
      "340\n",
      "42\n",
      "43\n"
     ]
    }
   ],
   "source": [
    "print(len(train_images))\n",
    "print(len(test_images))\n",
    "print(len(val_images))"
   ]
  },
  {
   "cell_type": "code",
   "execution_count": 49,
   "metadata": {},
   "outputs": [],
   "source": [
    "copy_images(train_images, stone_cases_path, train_folder)\n",
    "copy_images(test_images, stone_cases_path, test_folder)\n",
    "copy_images(val_images, stone_cases_path, val_folder)"
   ]
  }
 ],
 "metadata": {
  "kernelspec": {
   "display_name": "Python 3",
   "language": "python",
   "name": "python3"
  },
  "language_info": {
   "codemirror_mode": {
    "name": "ipython",
    "version": 3
   },
   "file_extension": ".py",
   "mimetype": "text/x-python",
   "name": "python",
   "nbconvert_exporter": "python",
   "pygments_lexer": "ipython3",
   "version": "3.12.8"
  }
 },
 "nbformat": 4,
 "nbformat_minor": 2
}
