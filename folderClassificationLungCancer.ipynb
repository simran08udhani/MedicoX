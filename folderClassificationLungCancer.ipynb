{
 "cells": [
  {
   "cell_type": "code",
   "execution_count": null,
   "metadata": {},
   "outputs": [],
   "source": [
    "import pandas as pd\n",
    "import numpy as np\n",
    "import cv2"
   ]
  },
  {
   "cell_type": "code",
   "execution_count": null,
   "metadata": {},
   "outputs": [],
   "source": [
    "from PIL import Image"
   ]
  },
  {
   "cell_type": "code",
   "execution_count": null,
   "metadata": {},
   "outputs": [],
   "source": [
    "import os"
   ]
  },
  {
   "cell_type": "code",
   "execution_count": null,
   "metadata": {},
   "outputs": [],
   "source": [
    "Bengin_cases_path = r\"D:\\MAJOR PROJECT\\CTScanModel\\lungCancer\\lungCancerData\\The IQ-OTHNCCD lung cancer dataset\\Bengin cases\""
   ]
  },
  {
   "cell_type": "code",
   "execution_count": null,
   "metadata": {},
   "outputs": [],
   "source": [
    "images = [img for img in os.listdir(Bengin_cases_path) if os.path.isfile(os.path.join(Bengin_cases_path, img))]"
   ]
  },
  {
   "cell_type": "code",
   "execution_count": null,
   "metadata": {},
   "outputs": [],
   "source": [
    "len(images)"
   ]
  },
  {
   "cell_type": "code",
   "execution_count": null,
   "metadata": {},
   "outputs": [],
   "source": [
    "import shutil"
   ]
  },
  {
   "cell_type": "code",
   "execution_count": null,
   "metadata": {},
   "outputs": [],
   "source": [
    "train_folder = r\"D:\\MAJOR PROJECT\\CTScanModel\\lungCancer\\preProcessedLungCancer\\train\\Bengin_lung_Cancer_image\"\n",
    "test_folder = r\"D:\\MAJOR PROJECT\\CTScanModel\\lungCancer\\preProcessedLungCancer\\test\\Bengin_lung_cancer_image\"\n",
    "val_folder = r\"D:\\MAJOR PROJECT\\CTScanModel\\lungCancer\\preProcessedLungCancer\\validaton\\Bengin_lung_cancer_image\""
   ]
  },
  {
   "cell_type": "code",
   "execution_count": null,
   "metadata": {},
   "outputs": [],
   "source": [
    "# Create directories if they don't exist\n",
    "os.makedirs(train_folder, exist_ok=True)\n",
    "os.makedirs(val_folder, exist_ok=True)\n",
    "os.makedirs(test_folder, exist_ok=True)"
   ]
  },
  {
   "cell_type": "code",
   "execution_count": null,
   "metadata": {},
   "outputs": [],
   "source": [
    "import random"
   ]
  },
  {
   "cell_type": "code",
   "execution_count": null,
   "metadata": {},
   "outputs": [],
   "source": [
    "random.shuffle(images)"
   ]
  },
  {
   "cell_type": "code",
   "execution_count": null,
   "metadata": {},
   "outputs": [],
   "source": [
    "# Define split ratios\n",
    "train_ratio = 0.8\n",
    "test_ratio = 0.1\n",
    "val_ratio = 0.1\n"
   ]
  },
  {
   "cell_type": "code",
   "execution_count": null,
   "metadata": {},
   "outputs": [],
   "source": [
    "# Compute split indices\n",
    "total_images_Bengin = len(images)\n",
    "train_index = int(total_images_Bengin * train_ratio)\n",
    "test_index = train_index + int(total_images_Bengin * test_ratio)"
   ]
  },
  {
   "cell_type": "code",
   "execution_count": null,
   "metadata": {},
   "outputs": [],
   "source": [
    "train_images = images[:train_index]\n",
    "test_images = images[train_index:test_index]\n",
    "val_images = images[test_index:]"
   ]
  },
  {
   "cell_type": "code",
   "execution_count": null,
   "metadata": {},
   "outputs": [],
   "source": [
    "print(len(train_images))\n",
    "print(len(test_images))\n",
    "print(len(val_images))"
   ]
  },
  {
   "cell_type": "code",
   "execution_count": null,
   "metadata": {},
   "outputs": [],
   "source": [
    "type(train_images)"
   ]
  },
  {
   "cell_type": "code",
   "execution_count": null,
   "metadata": {},
   "outputs": [],
   "source": [
    "def copy_images(image_list, source_folder, destination_folder):\n",
    "    for img in image_list:\n",
    "        shutil.copy(os.path.join(source_folder, img), os.path.join(destination_folder, img))"
   ]
  },
  {
   "cell_type": "code",
   "execution_count": null,
   "metadata": {},
   "outputs": [],
   "source": [
    "copy_images(train_images, Bengin_cases_path, train_folder)\n",
    "copy_images(test_images, Bengin_cases_path, test_folder)\n",
    "copy_images(val_images, Bengin_cases_path, val_folder)"
   ]
  },
  {
   "cell_type": "code",
   "execution_count": null,
   "metadata": {},
   "outputs": [],
   "source": [
    "malignant_cases_path = r\"D:\\MAJOR PROJECT\\CTScanModel\\lungCancer\\lungCancerData\\The IQ-OTHNCCD lung cancer dataset\\Malignant cases\""
   ]
  },
  {
   "cell_type": "code",
   "execution_count": null,
   "metadata": {},
   "outputs": [],
   "source": [
    "normal_cases_path = r\"D:\\MAJOR PROJECT\\CTScanModel\\lungCancer\\lungCancerData\\The IQ-OTHNCCD lung cancer dataset\\Normal cases\""
   ]
  },
  {
   "cell_type": "code",
   "execution_count": null,
   "metadata": {},
   "outputs": [],
   "source": [
    "images_malignant = images = [img for img in os.listdir(malignant_cases_path) if os.path.isfile(os.path.join(malignant_cases_path, img))]"
   ]
  },
  {
   "cell_type": "code",
   "execution_count": null,
   "metadata": {},
   "outputs": [],
   "source": [
    "len(images_malignant)"
   ]
  },
  {
   "cell_type": "code",
   "execution_count": null,
   "metadata": {},
   "outputs": [],
   "source": [
    "train_folder = r\"D:\\MAJOR PROJECT\\CTScanModel\\lungCancer\\preProcessedLungCancer\\train\\malignant_lung_cancer\"\n",
    "test_folder = r\"D:\\MAJOR PROJECT\\CTScanModel\\lungCancer\\preProcessedLungCancer\\test\\malignant_lung_cancer_image\"\n",
    "val_folder = r\"D:\\MAJOR PROJECT\\CTScanModel\\lungCancer\\preProcessedLungCancer\\validaton\\malignant_lung_cancer_image\""
   ]
  },
  {
   "cell_type": "code",
   "execution_count": null,
   "metadata": {},
   "outputs": [],
   "source": [
    "random.shuffle(images_malignant)"
   ]
  },
  {
   "cell_type": "code",
   "execution_count": null,
   "metadata": {},
   "outputs": [],
   "source": [
    "# Compute split indices\n",
    "total_images_malignant = len(images_malignant)\n",
    "train_index = int(total_images_malignant * train_ratio)\n",
    "test_index = train_index + int(total_images_malignant * test_ratio)"
   ]
  },
  {
   "cell_type": "code",
   "execution_count": null,
   "metadata": {},
   "outputs": [],
   "source": [
    "train_images = images[:train_index]\n",
    "test_images = images[train_index:test_index]\n",
    "val_images = images[test_index:]"
   ]
  },
  {
   "cell_type": "code",
   "execution_count": null,
   "metadata": {},
   "outputs": [],
   "source": [
    "print(len(train_images))\n",
    "print(len(test_images))\n",
    "print(len(val_images))"
   ]
  },
  {
   "cell_type": "code",
   "execution_count": null,
   "metadata": {},
   "outputs": [],
   "source": [
    "copy_images(train_images, malignant_cases_path, train_folder)\n",
    "copy_images(test_images, malignant_cases_path, test_folder)\n",
    "copy_images(val_images, malignant_cases_path, val_folder)"
   ]
  },
  {
   "cell_type": "code",
   "execution_count": null,
   "metadata": {},
   "outputs": [],
   "source": [
    "normal_image = images = [img for img in os.listdir(normal_cases_path) if os.path.isfile(os.path.join(normal_cases_path, img))]"
   ]
  },
  {
   "cell_type": "code",
   "execution_count": null,
   "metadata": {},
   "outputs": [],
   "source": [
    "len(normal_image)"
   ]
  },
  {
   "cell_type": "code",
   "execution_count": null,
   "metadata": {},
   "outputs": [],
   "source": [
    "train_folder = r\"D:\\MAJOR PROJECT\\CTScanModel\\lungCancer\\preProcessedLungCancer\\train\\normal_images\"\n",
    "test_folder = r\"D:\\MAJOR PROJECT\\CTScanModel\\lungCancer\\preProcessedLungCancer\\test\\normal_images\"\n",
    "val_folder = r\"D:\\MAJOR PROJECT\\CTScanModel\\lungCancer\\preProcessedLungCancer\\validaton\\normal_images\""
   ]
  },
  {
   "cell_type": "code",
   "execution_count": null,
   "metadata": {},
   "outputs": [],
   "source": [
    "random.shuffle(normal_image)"
   ]
  },
  {
   "cell_type": "code",
   "execution_count": null,
   "metadata": {},
   "outputs": [],
   "source": [
    "total_images_normal = len(normal_image)\n",
    "print(total_images_normal)\n",
    "train_index = int(total_images_normal * train_ratio)\n",
    "test_index = train_index + int(total_images_normal * test_ratio)"
   ]
  },
  {
   "cell_type": "code",
   "execution_count": null,
   "metadata": {},
   "outputs": [],
   "source": [
    "train_images = images[:train_index]\n",
    "test_images = images[train_index:test_index]\n",
    "val_images = images[test_index:]"
   ]
  },
  {
   "cell_type": "code",
   "execution_count": null,
   "metadata": {},
   "outputs": [],
   "source": [
    "print(len(train_images))\n",
    "print(len(test_images))\n",
    "print(len(val_images))"
   ]
  },
  {
   "cell_type": "code",
   "execution_count": null,
   "metadata": {},
   "outputs": [],
   "source": [
    "copy_images(train_images, normal_cases_path, train_folder)\n",
    "copy_images(test_images, normal_cases_path, test_folder)\n",
    "copy_images(val_images, normal_cases_path, val_folder)"
   ]
  }
 ],
 "metadata": {
  "kernelspec": {
   "display_name": "Python 3",
   "language": "python",
   "name": "python3"
  },
  "language_info": {
   "codemirror_mode": {
    "name": "ipython",
    "version": 3
   },
   "file_extension": ".py",
   "mimetype": "text/x-python",
   "name": "python",
   "nbconvert_exporter": "python",
   "pygments_lexer": "ipython3",
   "version": "3.12.8"
  }
 },
 "nbformat": 4,
 "nbformat_minor": 2
}
